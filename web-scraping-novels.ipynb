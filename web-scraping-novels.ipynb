{
 "cells": [
  {
   "cell_type": "code",
   "execution_count": 14,
   "id": "80dedccb",
   "metadata": {},
   "outputs": [],
   "source": [
    "import requests\n",
    "import urllib.request\n",
    "import time\n",
    "from bs4 import BeautifulSoup"
   ]
  },
  {
   "cell_type": "code",
   "execution_count": 15,
   "id": "707b2f3d",
   "metadata": {},
   "outputs": [],
   "source": [
    "# Store url\n",
    "url = 'https://www.gutenberg.org/files/2641/2641-h/2641-h.htm'"
   ]
  },
  {
   "cell_type": "code",
   "execution_count": 22,
   "id": "ce48f2c4",
   "metadata": {},
   "outputs": [],
   "source": [
    "# Make the request\n",
    "response = requests.get(url)"
   ]
  },
  {
   "cell_type": "code",
   "execution_count": 25,
   "id": "26e2becf",
   "metadata": {},
   "outputs": [],
   "source": [
    "# Create a BeautifulSoup object from the HTML\n",
    "soup = BeautifulSoup(response.text, \"html.parser\")"
   ]
  },
  {
   "cell_type": "code",
   "execution_count": 36,
   "id": "173b9090",
   "metadata": {},
   "outputs": [
    {
     "data": {
      "text/plain": [
       "['By E. M. Forster']"
      ]
     },
     "execution_count": 36,
     "metadata": {},
     "output_type": "execute_result"
    }
   ],
   "source": [
    "# can check webpage title, and title of a book\n",
    "soup.title # webpage\n",
    "soup.h1 # book, as you can see in html code\n",
    "soup.h2.contents # author"
   ]
  },
  {
   "cell_type": "code",
   "execution_count": 51,
   "id": "09e40504",
   "metadata": {},
   "outputs": [
    {
     "data": {
      "text/plain": [
       "[<a href=\"#link2H_PART1\"><b>Part One.</b></a>,\n",
       " <a href=\"#link2HCH0001\">Chapter I. The Bertolini</a>,\n",
       " <a href=\"#link2HCH0002\">Chapter II. In Santa Croce with No Baedeker</a>,\n",
       " <a href=\"#link2HCH0003\">Chapter III. Music, Violets, and the Letter âSâ</a>,\n",
       " <a href=\"#link2HCH0004\">Chapter IV. Fourth Chapter</a>,\n",
       " <a href=\"#link2HCH0005\">Chapter V. Possibilities of a Pleasant Outing</a>,\n",
       " <a href=\"#link2HCH0006\">Chapter VI. The Reverend Arthur Beebe, the Reverend Cuthbert Eager, Mr. Emerson, Mr. George Emerson, Miss Eleanor Lavish, Miss Charlotte Bartlett, and Miss Lucy Honeychurch Drive Out in Carriages to See a View; Italians Drive Them</a>,\n",
       " <a href=\"#link2HCH0007\">Chapter VII. They Return</a>,\n",
       " <a href=\"#link2H_PART2\"><b>Part Two.</b></a>,\n",
       " <a href=\"#link2HCH0008\">Chapter VIII. Medieval</a>,\n",
       " <a href=\"#link2HCH0009\">Chapter IX. Lucy As a Work of Art</a>,\n",
       " <a href=\"#link2HCH0010\">Chapter X. Cecil as a Humourist</a>,\n",
       " <a href=\"#link2HCH0011\">Chapter XI. In Mrs. Vyseâs Well-Appointed Flat</a>,\n",
       " <a href=\"#link2HCH0012\">Chapter XII. Twelfth Chapter</a>,\n",
       " <a href=\"#link2HCH0013\">Chapter XIII. How Miss Bartlettâs Boiler Was So Tiresome</a>,\n",
       " <a href=\"#link2HCH0014\">Chapter XIV. How Lucy Faced the External Situation Bravely</a>,\n",
       " <a href=\"#link2HCH0015\">Chapter XV. The Disaster Within</a>,\n",
       " <a href=\"#link2HCH0016\">Chapter XVI. Lying to George</a>,\n",
       " <a href=\"#link2HCH0017\">Chapter XVII. Lying to Cecil</a>,\n",
       " <a href=\"#link2HCH0018\">Chapter XVIII. Lying to Mr. Beebe, Mrs. Honeychurch, Freddy, and The Servants</a>,\n",
       " <a href=\"#link2HCH0019\">Chapter XIX. Lying to Mr. Emerson</a>,\n",
       " <a href=\"#link2HCH0020\">Chapter XX. The End of the Middle Ages</a>]"
      ]
     },
     "execution_count": 51,
     "metadata": {},
     "output_type": "execute_result"
    }
   ],
   "source": [
    "# found URLs within a page’s < a > tags (hyperlinks)\n",
    "chapters = soup.findAll('a')[1:23] # check all chapters\n",
    "chapters"
   ]
  },
  {
   "cell_type": "code",
   "execution_count": 94,
   "id": "6eb8bbfd",
   "metadata": {},
   "outputs": [
    {
     "data": {
      "text/plain": [
       "75975"
      ]
     },
     "execution_count": 94,
     "metadata": {},
     "output_type": "execute_result"
    }
   ],
   "source": [
    "text = soup.get_text()\n",
    "len(tokens)"
   ]
  },
  {
   "cell_type": "markdown",
   "id": "eda7b5d4",
   "metadata": {},
   "source": [
    "# Start working with text"
   ]
  },
  {
   "cell_type": "code",
   "execution_count": 65,
   "id": "3aa49cd6",
   "metadata": {},
   "outputs": [
    {
     "name": "stderr",
     "output_type": "stream",
     "text": [
      "[nltk_data] Downloading package stopwords to\n",
      "[nltk_data]     /home/krasnyuk/nltk_data...\n",
      "[nltk_data]   Package stopwords is already up-to-date!\n",
      "[nltk_data] Downloading package punkt to /home/krasnyuk/nltk_data...\n",
      "[nltk_data]   Unzipping tokenizers/punkt.zip.\n"
     ]
    }
   ],
   "source": [
    "import re\n",
    "import nltk\n",
    "from nltk.tokenize import RegexpTokenizer\n",
    "nltk.download('stopwords')\n",
    "nltk.download('punkt')\n",
    "stopwords = nltk.corpus.stopwords.words('english')"
   ]
  },
  {
   "cell_type": "code",
   "execution_count": 82,
   "id": "9e9e7ee2",
   "metadata": {},
   "outputs": [
    {
     "data": {
      "text/plain": [
       "['project',\n",
       " 'gutenberg',\n",
       " 'ebook',\n",
       " 'room',\n",
       " 'view',\n",
       " 'forster',\n",
       " 'project',\n",
       " 'gutenberg',\n",
       " 'ebook',\n",
       " 'room',\n",
       " 'view',\n",
       " 'forster',\n",
       " 'ebook',\n",
       " 'use',\n",
       " 'anyone',\n",
       " 'anywhere',\n",
       " 'united',\n",
       " 'states',\n",
       " 'parts',\n",
       " 'world']"
      ]
     },
     "execution_count": 82,
     "metadata": {},
     "output_type": "execute_result"
    }
   ],
   "source": [
    "tokenizer = RegexpTokenizer('\\w+')\n",
    "# Create tokens\n",
    "tokens = tokenizer.tokenize(text)\n",
    "# Initialize new list\n",
    "corpus = []\n",
    "# Delete stopwords and after quick chek,\n",
    "# i saw that there's letter 'e' in list,\n",
    "# and it need to delete too(this is not a word)\n",
    "for word in tokens:\n",
    "    word = word.lower()\n",
    "    if (len(word) >= 2) and word not in stopwords:\n",
    "        corpus.append(word)\n",
    "corpus[:20]"
   ]
  },
  {
   "cell_type": "markdown",
   "id": "2b7d9b9d",
   "metadata": {},
   "source": [
    "### Now we can find the most frequent words and their counts"
   ]
  },
  {
   "cell_type": "code",
   "execution_count": 92,
   "id": "3fc74d44",
   "metadata": {},
   "outputs": [
    {
     "data": {
      "image/png": "[encoded data removed]",
      "text/plain": [
       "<Figure size 640x480 with 1 Axes>"
      ]
     },
     "metadata": {},
     "output_type": "display_data"
    },
    {
     "data": {
      "text/plain": [
       "<AxesSubplot:xlabel='Samples', ylabel='Counts'>"
      ]
     },
     "execution_count": 92,
     "metadata": {},
     "output_type": "execute_result"
    }
   ],
   "source": [
    "#Import datavision library\n",
    "import matplotlib.pyplot as plt\n",
    "import seaborn as sns\n",
    "\n",
    "# Create freq dist and plot\n",
    "freqdist1 = nltk.FreqDist(corpus) # Frequency distribution\n",
    "freqdist1.plot(20)"
   ]
  },
  {
   "cell_type": "code",
   "execution_count": null,
   "id": "fecf88f7",
   "metadata": {},
   "outputs": [],
   "source": []
  }
 ],
 "metadata": {
  "kernelspec": {
   "display_name": "Python 3 (ipykernel)",
   "language": "python",
   "name": "python3"
  },
  "language_info": {
   "codemirror_mode": {
    "name": "ipython",
    "version": 3
   },
   "file_extension": ".py",
   "mimetype": "text/x-python",
   "name": "python",
   "nbconvert_exporter": "python",
   "pygments_lexer": "ipython3",
   "version": "3.10.6"
  }
 },
 "nbformat": 4,
 "nbformat_minor": 5
}
